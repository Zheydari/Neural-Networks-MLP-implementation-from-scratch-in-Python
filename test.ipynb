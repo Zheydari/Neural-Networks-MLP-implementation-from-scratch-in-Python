{
 "cells": [
  {
   "cell_type": "markdown",
   "id": "painful-entrepreneur",
   "metadata": {},
   "source": [
    "### Imports"
   ]
  },
  {
   "cell_type": "code",
   "execution_count": 1,
   "id": "automated-instruction",
   "metadata": {},
   "outputs": [],
   "source": [
    "import utils\n",
    "import random\n",
    "import numpy as np\n",
    "import matplotlib.pyplot as plt"
   ]
  },
  {
   "cell_type": "markdown",
   "id": "premium-morocco",
   "metadata": {},
   "source": [
    "## 1. Data Loading"
   ]
  },
  {
   "cell_type": "markdown",
   "id": "latter-breakfast",
   "metadata": {},
   "source": [
    "### Data import"
   ]
  },
  {
   "cell_type": "code",
   "execution_count": 2,
   "id": "raising-edition",
   "metadata": {},
   "outputs": [],
   "source": [
    "data, label = utils.load_csv('./data/mnist_train.csv')"
   ]
  },
  {
   "cell_type": "code",
   "execution_count": 3,
   "id": "accompanied-england",
   "metadata": {},
   "outputs": [
    {
     "name": "stdout",
     "output_type": "stream",
     "text": [
      "X-VAL LEN:  60000\n",
      "Y-VAL LEN:  60000\n"
     ]
    }
   ],
   "source": [
    "print( 'X-VAL LEN: ', len(data) )\n",
    "\n",
    "print( 'Y-VAL LEN: ', len(label) )"
   ]
  },
  {
   "cell_type": "code",
   "execution_count": 4,
   "id": "complete-funds",
   "metadata": {},
   "outputs": [
    {
     "data": {
      "text/plain": [
       "784"
      ]
     },
     "execution_count": 4,
     "metadata": {},
     "output_type": "execute_result"
    }
   ],
   "source": [
    "## Row length\n",
    "len(data[0])"
   ]
  },
  {
   "cell_type": "code",
   "execution_count": 5,
   "id": "lined-breakfast",
   "metadata": {},
   "outputs": [
    {
     "data": {
      "text/plain": [
       "60000"
      ]
     },
     "execution_count": 5,
     "metadata": {},
     "output_type": "execute_result"
    }
   ],
   "source": [
    "len(label)"
   ]
  },
  {
   "cell_type": "code",
   "execution_count": 6,
   "id": "collect-dragon",
   "metadata": {},
   "outputs": [
    {
     "data": {
      "text/plain": [
       "{0, 1, 2, 3, 4, 5, 6, 7, 8, 9}"
      ]
     },
     "execution_count": 6,
     "metadata": {},
     "output_type": "execute_result"
    }
   ],
   "source": [
    "set(label)"
   ]
  },
  {
   "cell_type": "code",
   "execution_count": 7,
   "id": "starting-prayer",
   "metadata": {},
   "outputs": [
    {
     "name": "stdout",
     "output_type": "stream",
     "text": [
      "Training data loaded with 60000 images\n"
     ]
    }
   ],
   "source": [
    "print(\"Training data loaded with {count} images\".format(count=len(data)))"
   ]
  },
  {
   "cell_type": "code",
   "execution_count": 8,
   "id": "center-springer",
   "metadata": {},
   "outputs": [
    {
     "data": {
      "text/plain": [
       "1.1"
      ]
     },
     "execution_count": 8,
     "metadata": {},
     "output_type": "execute_result"
    }
   ],
   "source": [
    "1.1"
   ]
  },
  {
   "cell_type": "markdown",
   "id": "musical-greensboro",
   "metadata": {},
   "source": [
    "### 1.1 Data Preparation"
   ]
  },
  {
   "cell_type": "markdown",
   "id": "internal-graph",
   "metadata": {},
   "source": [
    "#### Train Val Split"
   ]
  },
  {
   "cell_type": "code",
   "execution_count": 9,
   "id": "hazardous-responsibility",
   "metadata": {},
   "outputs": [
    {
     "name": "stdout",
     "output_type": "stream",
     "text": [
      "na\n"
     ]
    }
   ],
   "source": [
    "len_data = len(data)\n",
    "len_label = len(label)\n",
    "\n",
    "if 0 in {len_data, len_label}:\n",
    "    print( 'ye')\n",
    "else:\n",
    "    print('na')"
   ]
  },
  {
   "cell_type": "code",
   "execution_count": 10,
   "id": "forbidden-effect",
   "metadata": {},
   "outputs": [
    {
     "data": {
      "text/plain": [
       "80"
      ]
     },
     "execution_count": 10,
     "metadata": {},
     "output_type": "execute_result"
    }
   ],
   "source": [
    "len(data[:80])"
   ]
  },
  {
   "cell_type": "code",
   "execution_count": 11,
   "id": "substantial-procurement",
   "metadata": {},
   "outputs": [],
   "source": [
    "split_percentage = 0.8\n",
    "len_train = int(len_data*0.8)\n"
   ]
  },
  {
   "cell_type": "code",
   "execution_count": 12,
   "id": "adapted-header",
   "metadata": {},
   "outputs": [
    {
     "data": {
      "text/plain": [
       "48000"
      ]
     },
     "execution_count": 12,
     "metadata": {},
     "output_type": "execute_result"
    }
   ],
   "source": [
    "len_train"
   ]
  },
  {
   "cell_type": "code",
   "execution_count": 13,
   "id": "familiar-bullet",
   "metadata": {},
   "outputs": [
    {
     "data": {
      "text/plain": [
       "48000"
      ]
     },
     "execution_count": 13,
     "metadata": {},
     "output_type": "execute_result"
    }
   ],
   "source": [
    "len(data[:len_train])"
   ]
  },
  {
   "cell_type": "code",
   "execution_count": 14,
   "id": "armed-insulation",
   "metadata": {},
   "outputs": [],
   "source": [
    "train_data = data[:len_train]\n",
    "train_label = label[:len_train]\n",
    "val_data = data[len_train:]\n",
    "val_label = label[len_train:]"
   ]
  },
  {
   "cell_type": "code",
   "execution_count": 15,
   "id": "diverse-average",
   "metadata": {},
   "outputs": [
    {
     "data": {
      "text/plain": [
       "12000"
      ]
     },
     "execution_count": 15,
     "metadata": {},
     "output_type": "execute_result"
    }
   ],
   "source": [
    "len(val_label)"
   ]
  },
  {
   "cell_type": "code",
   "execution_count": 16,
   "id": "arranged-stocks",
   "metadata": {},
   "outputs": [
    {
     "data": {
      "text/plain": [
       "60000"
      ]
     },
     "execution_count": 16,
     "metadata": {},
     "output_type": "execute_result"
    }
   ],
   "source": [
    "len(val_data+train_data)"
   ]
  },
  {
   "cell_type": "markdown",
   "id": "painted-recipient",
   "metadata": {},
   "source": [
    "__Test function in .py file__"
   ]
  },
  {
   "cell_type": "code",
   "execution_count": 17,
   "id": "varying-brazil",
   "metadata": {},
   "outputs": [
    {
     "name": "stdout",
     "output_type": "stream",
     "text": [
      "Loading training data...\n",
      "Training data loaded with 60000 images\n"
     ]
    }
   ],
   "source": [
    "train_data, train_label, val_data, val_label = utils.load_mnist_trainval()"
   ]
  },
  {
   "cell_type": "code",
   "execution_count": 18,
   "id": "advance-latino",
   "metadata": {},
   "outputs": [
    {
     "data": {
      "text/plain": [
       "48000"
      ]
     },
     "execution_count": 18,
     "metadata": {},
     "output_type": "execute_result"
    }
   ],
   "source": [
    "len(train_label)"
   ]
  },
  {
   "cell_type": "markdown",
   "id": "nearby-detail",
   "metadata": {},
   "source": [
    "#### Generate batched data"
   ]
  },
  {
   "cell_type": "code",
   "execution_count": 20,
   "id": "according-revision",
   "metadata": {},
   "outputs": [],
   "source": [
    "seed = True\n",
    "shuffle = True"
   ]
  },
  {
   "cell_type": "code",
   "execution_count": 21,
   "id": "strategic-sucking",
   "metadata": {},
   "outputs": [],
   "source": [
    "if seed:\n",
    "    np.random.seed(42)\n",
    "if shuffle:\n",
    "    random_index = list(np.random.permutation(len(train_data))) ## Returns permuted range to keep data in line\n",
    "    data_arr = np.array(train_data)\n",
    "    label_arr = np.array(train_label)\n",
    "    data = list(data_arr[random_index])\n",
    "    label = list(label_arr[random_index])"
   ]
  },
  {
   "cell_type": "code",
   "execution_count": 34,
   "id": "endangered-separation",
   "metadata": {},
   "outputs": [],
   "source": [
    "batch_size = 32\n",
    "batched_data = [data[d * batch_size:(d + 1) * batch_size] for d in range((len(data) + batch_size - 1) // batch_size)]\n",
    "batched_label = [label[d * batch_size:(d + 1) * batch_size] for d in range((len(label) + batch_size - 1) // batch_size )]\n"
   ]
  },
  {
   "cell_type": "code",
   "execution_count": 35,
   "id": "particular-transcription",
   "metadata": {},
   "outputs": [
    {
     "data": {
      "text/plain": [
       "1500"
      ]
     },
     "execution_count": 35,
     "metadata": {},
     "output_type": "execute_result"
    }
   ],
   "source": [
    "len(batched_label)"
   ]
  },
  {
   "cell_type": "markdown",
   "id": "powered-concrete",
   "metadata": {},
   "source": [
    "## 2. Model Implementation"
   ]
  },
  {
   "cell_type": "markdown",
   "id": "indonesian-heart",
   "metadata": {},
   "source": [
    "### 2.1 Utility Function"
   ]
  },
  {
   "cell_type": "code",
   "execution_count": 46,
   "id": "preceding-ballet",
   "metadata": {},
   "outputs": [
    {
     "name": "stdout",
     "output_type": "stream",
     "text": [
      "0.6\n"
     ]
    }
   ],
   "source": [
    "x_pred = [1, 2, 3, 4, 5]\n",
    "y = [1, 2, 3, 3, 4]\n",
    "## Accuracy\n",
    "t = 0\n",
    "for i in range(len(x_pred)):\n",
    "    if x_pred[i] == y[i]:\n",
    "        t += 1\n",
    "print(t/len(x_pred))"
   ]
  },
  {
   "cell_type": "code",
   "execution_count": 48,
   "id": "endless-world",
   "metadata": {},
   "outputs": [
    {
     "data": {
      "text/plain": [
       "4"
      ]
     },
     "execution_count": 48,
     "metadata": {},
     "output_type": "execute_result"
    }
   ],
   "source": [
    "np.max(y)"
   ]
  },
  {
   "cell_type": "code",
   "execution_count": 50,
   "id": "comic-sperm",
   "metadata": {},
   "outputs": [],
   "source": [
    "import utils\n",
    "import models"
   ]
  },
  {
   "cell_type": "markdown",
   "id": "animal-length",
   "metadata": {},
   "source": [
    "### 2.2 Model Implementation"
   ]
  },
  {
   "cell_type": "code",
   "execution_count": null,
   "id": "every-bottle",
   "metadata": {},
   "outputs": [],
   "source": [
    "def _weight_init(self):\n",
    "    '''\n",
    "    initialize weights of the single layer regression network. No bias term included.\n",
    "    :return: None; self.weights is filled based on method\n",
    "    - W1: The weight matrix of the linear layer of shape (num_features, hidden_size)\n",
    "    '''\n",
    "    np.random.seed(1024)\n",
    "    self.weights['W1'] = 0.001 * np.random.randn(self.input_size, self.num_classes)\n",
    "    self.gradients['W1'] = np.zeros((self.input_size, self.num_classes))"
   ]
  },
  {
   "cell_type": "code",
   "execution_count": 69,
   "id": "surprised-birmingham",
   "metadata": {},
   "outputs": [],
   "source": [
    "weights = dict()\n",
    "gradients = dict()\n",
    "input_size = 28*28\n",
    "num_classes = 10\n",
    "\n",
    "weights['W1'] = 0.001 * np.random.randn(input_size, num_classes)\n",
    "gradients['W1'] = np.zeros((input_size, num_classes))"
   ]
  },
  {
   "cell_type": "code",
   "execution_count": 86,
   "id": "formal-transaction",
   "metadata": {},
   "outputs": [],
   "source": [
    "a = np.dot(data, weights['W1'])\n",
    "Z = 1 / (1 + np.exp(-a))\n",
    "y = label"
   ]
  },
  {
   "cell_type": "markdown",
   "id": "immune-union",
   "metadata": {},
   "source": [
    "#### Cross Entropy"
   ]
  },
  {
   "cell_type": "code",
   "execution_count": 169,
   "id": "atomic-yellow",
   "metadata": {},
   "outputs": [],
   "source": [
    "def cross_entropy(predictions, targets):\n",
    "    N = predictions.shape[0]\n",
    "#     predictions = 1 / (1 + np.exp(-predictions))\n",
    "    targets = one_hot_encoder(predictions, targets)\n",
    "#     print(targets)\n",
    "    ce = -np.sum(targets * np.log(predictions)) / N\n",
    "    return ce\n",
    "\n",
    "def one_hot_encoder(x, y):\n",
    "    nb_classes = len(x)\n",
    "    return np.eye(nb_classes)[y]"
   ]
  },
  {
   "cell_type": "code",
   "execution_count": 170,
   "id": "according-ottawa",
   "metadata": {},
   "outputs": [],
   "source": [
    "x = np.array([[0.2, 0.5, 0.3], [0.5, 0.1, 0.4], [0.3, 0.3, 0.4]])\n",
    "y = np.array([1, 2, 0])\n",
    "\n",
    "expected_loss = 0.937803"
   ]
  },
  {
   "cell_type": "code",
   "execution_count": 171,
   "id": "ordered-electricity",
   "metadata": {},
   "outputs": [
    {
     "data": {
      "text/plain": [
       "0.9378035722533454"
      ]
     },
     "execution_count": 171,
     "metadata": {},
     "output_type": "execute_result"
    }
   ],
   "source": [
    "cross_entropy(x, y)"
   ]
  },
  {
   "cell_type": "markdown",
   "id": "funky-explosion",
   "metadata": {},
   "source": [
    "#### accuracy"
   ]
  },
  {
   "cell_type": "code",
   "execution_count": 301,
   "id": "respective-australian",
   "metadata": {},
   "outputs": [],
   "source": [
    "x = np.array([[0.2, 0.5, 0.3], [0.5, 0.1, 0.4], [0.3, 0.3, 0.4]])\n",
    "y = np.array([1, 2, 0])\n",
    "expected_acc = 0.3333"
   ]
  },
  {
   "cell_type": "code",
   "execution_count": 313,
   "id": "italian-death",
   "metadata": {},
   "outputs": [],
   "source": [
    "y_pred = np.argmax(x, axis=1)"
   ]
  },
  {
   "cell_type": "code",
   "execution_count": 315,
   "id": "elect-directive",
   "metadata": {},
   "outputs": [
    {
     "data": {
      "text/plain": [
       "array([1, 0, 2])"
      ]
     },
     "execution_count": 315,
     "metadata": {},
     "output_type": "execute_result"
    }
   ],
   "source": [
    "y_pred"
   ]
  },
  {
   "cell_type": "code",
   "execution_count": 318,
   "id": "brief-black",
   "metadata": {},
   "outputs": [
    {
     "data": {
      "text/plain": [
       "array([ True, False, False])"
      ]
     },
     "execution_count": 318,
     "metadata": {},
     "output_type": "execute_result"
    }
   ],
   "source": [
    "(y == y_pred)"
   ]
  },
  {
   "cell_type": "markdown",
   "id": "small-motion",
   "metadata": {},
   "source": [
    "#### softmax"
   ]
  },
  {
   "cell_type": "code",
   "execution_count": 337,
   "id": "fancy-adobe",
   "metadata": {},
   "outputs": [
    {
     "data": {
      "text/plain": [
       "array([[0.09649833, 0.13025912, 0.10664715],\n",
       "       [0.13025912, 0.0873153 , 0.11786333],\n",
       "       [0.10664715, 0.10664715, 0.11786333]])"
      ]
     },
     "execution_count": 337,
     "metadata": {},
     "output_type": "execute_result"
    }
   ],
   "source": [
    "exp = np.exp(x)\n",
    "sum_exp = np.sum(exp)\n",
    "prob =  exp/sum_exp\n",
    "\n",
    "prob"
   ]
  },
  {
   "cell_type": "code",
   "execution_count": 338,
   "id": "perceived-dealer",
   "metadata": {},
   "outputs": [
    {
     "data": {
      "text/plain": [
       "array([[0.09649833, 0.13025912, 0.10664715],\n",
       "       [0.13025912, 0.0873153 , 0.11786333],\n",
       "       [0.10664715, 0.10664715, 0.11786333]])"
      ]
     },
     "execution_count": 338,
     "metadata": {},
     "output_type": "execute_result"
    }
   ],
   "source": [
    "exp = np.exp(x - np.max(x))\n",
    "sum_exp = np.sum(exp)\n",
    "prob =  exp/sum_exp\n",
    "prob"
   ]
  },
  {
   "cell_type": "markdown",
   "id": "closed-monkey",
   "metadata": {},
   "source": [
    "#### Relu"
   ]
  },
  {
   "cell_type": "code",
   "execution_count": 212,
   "id": "historical-eight",
   "metadata": {},
   "outputs": [
    {
     "data": {
      "text/plain": [
       "array([[-0.2,  0.5,  0.3],\n",
       "       [ 0.5,  0.1,  0.4],\n",
       "       [ 0.3,  0.3,  0.4]])"
      ]
     },
     "execution_count": 212,
     "metadata": {},
     "output_type": "execute_result"
    }
   ],
   "source": [
    "z"
   ]
  },
  {
   "cell_type": "code",
   "execution_count": 208,
   "id": "musical-general",
   "metadata": {},
   "outputs": [],
   "source": [
    "def ReLU(X):\n",
    "    '''\n",
    "    Compute the ReLU activation for the input\n",
    "\n",
    "    :param X: the input data coming out from one layer of the model (N, num_classes)\n",
    "    :return:\n",
    "        out: the value after the ReLU activation is applied to the input (N, num_classes)\n",
    "    '''\n",
    "    out = np.maximum(0, X)\n",
    "    return out"
   ]
  },
  {
   "cell_type": "code",
   "execution_count": 213,
   "id": "automotive-muslim",
   "metadata": {},
   "outputs": [
    {
     "data": {
      "text/plain": [
       "array([[0. , 0.5, 0.3],\n",
       "       [0.5, 0.1, 0.4],\n",
       "       [0.3, 0.3, 0.4]])"
      ]
     },
     "execution_count": 213,
     "metadata": {},
     "output_type": "execute_result"
    }
   ],
   "source": [
    "ReLU(z)"
   ]
  },
  {
   "cell_type": "code",
   "execution_count": 216,
   "id": "varied-circle",
   "metadata": {},
   "outputs": [],
   "source": [
    "def ReLU_dev(X):\n",
    "        '''\n",
    "        Compute the gradient ReLU activation for the input\n",
    "\n",
    "        :param X: the input data coming out from one layer of the model (N, num_classes)\n",
    "        :return:\n",
    "            out: gradient of ReLU given input X\n",
    "        '''\n",
    "        out = np.greater(X, 0).astype(int)\n",
    "\n",
    "        return out"
   ]
  },
  {
   "cell_type": "code",
   "execution_count": 231,
   "id": "second-university",
   "metadata": {},
   "outputs": [
    {
     "data": {
      "text/plain": [
       "array([[0, 1, 1],\n",
       "       [1, 1, 1],\n",
       "       [1, 1, 1]])"
      ]
     },
     "execution_count": 231,
     "metadata": {},
     "output_type": "execute_result"
    }
   ],
   "source": [
    "np.greater(z,0).astype(int)"
   ]
  },
  {
   "cell_type": "markdown",
   "id": "advanced-impression",
   "metadata": {},
   "source": [
    "#### sigmoid"
   ]
  },
  {
   "cell_type": "code",
   "execution_count": 372,
   "id": "beautiful-expansion",
   "metadata": {},
   "outputs": [
    {
     "data": {
      "text/plain": [
       "1.7371236074592566e-08"
      ]
     },
     "execution_count": 372,
     "metadata": {},
     "output_type": "execute_result"
    }
   ],
   "source": [
    "x = np.array([[-1.48839468, -0.31530738],\n",
    "              [-0.28271176, -1.00780433],\n",
    "              [0.66435418, 1.2537461],\n",
    "              [-1.64829182, 0.90223236]])\n",
    "y = np.array([[0.23629739, 0.76370261],\n",
    "              [0.67372745, 0.32627255],\n",
    "              [0.35677439, 0.64322561],\n",
    "              [0.07239128, 0.92760872]])\n",
    "\n",
    "out = softmax(x)\n",
    "\n",
    "np.sum(np.abs((y - out)))"
   ]
  },
  {
   "cell_type": "code",
   "execution_count": 362,
   "id": "detected-transition",
   "metadata": {},
   "outputs": [
    {
     "data": {
      "text/plain": [
       "array([[0.02217823, 0.07167905],\n",
       "       [0.07405397, 0.03586284],\n",
       "       [0.19092107, 0.34421003],\n",
       "       [0.01890099, 0.24219381]])"
      ]
     },
     "execution_count": 362,
     "metadata": {},
     "output_type": "execute_result"
    }
   ],
   "source": [
    "out"
   ]
  },
  {
   "cell_type": "code",
   "execution_count": 371,
   "id": "numerous-sound",
   "metadata": {},
   "outputs": [],
   "source": [
    "def softmax(scores): \n",
    "    exp = np.exp(scores - np.max(scores, axis=-1, keepdims=True))\n",
    "    sum_exp = np.sum(exp, axis=-1, keepdims=True)\n",
    "    prob =  exp/sum_exp\n",
    "    return prob\n",
    "\n",
    "def softmax2(x):\n",
    "    mx = np.max(x, axis=-1, keepdims=True)\n",
    "    numerator = np.exp(x - mx)\n",
    "    denominator = np.sum(numerator, axis=-1, keepdims=True)\n",
    "    return numerator/denominator"
   ]
  },
  {
   "cell_type": "markdown",
   "id": "experienced-electronics",
   "metadata": {},
   "source": [
    "## 3. Optimizer"
   ]
  },
  {
   "cell_type": "code",
   "execution_count": null,
   "id": "muslim-setup",
   "metadata": {},
   "outputs": [],
   "source": [
    "def softmax(self, scores):\n",
    "    '''\n",
    "    Compute softmax scores given the raw output from the model\n",
    "\n",
    "    :param scores: raw scores from the model (N, num_classes)\n",
    "    :return:\n",
    "        prob: softmax probabilities (N, num_classes)\n",
    "    '''\n",
    "\n",
    "    exp = [np.exp(i) for i in scores]\n",
    "    sum_exp = np.sum(exp)\n",
    "    prob =  [j/sum_exp for j in exp]\n",
    "\n",
    "    return prob"
   ]
  },
  {
   "cell_type": "markdown",
   "id": "gorgeous-marsh",
   "metadata": {},
   "source": [
    "## 4. Visualization"
   ]
  },
  {
   "cell_type": "code",
   "execution_count": 90,
   "id": "natural-disaster",
   "metadata": {},
   "outputs": [
    {
     "data": {
      "image/png": "[encoded data removed]",
      "text/plain": [
       "<Figure size 432x288 with 1 Axes>"
      ]
     },
     "metadata": {
      "needs_background": "light"
     },
     "output_type": "display_data"
    },
    {
     "data": {
      "image/png": "[encoded data removed]",
      "text/plain": [
       "<Figure size 432x288 with 1 Axes>"
      ]
     },
     "metadata": {
      "needs_background": "light"
     },
     "output_type": "display_data"
    }
   ],
   "source": [
    "def plot_curves(train_loss_history, train_acc_history, valid_loss_history, valid_acc_history):\n",
    "    '''\n",
    "    Plot learning curves with matplotlib. Make sure training loss and validation loss are plot in the same figure and\n",
    "    training accuracy and validation accuracy are plot in the same figure too.\n",
    "    :param train_loss_history: training loss history of epochs\n",
    "    :param train_acc_history: training accuracy history of epochs\n",
    "    :param valid_loss_history: validation loss history of epochs\n",
    "    :param valid_acc_history: validation accuracy history of epochs\n",
    "    :return: None, save two figures in the current directory\n",
    "    '''\n",
    "    \n",
    "    plt.plot(train_loss_history)\n",
    "    plt.plot(valid_loss_history)\n",
    "    plt.title('model loss')\n",
    "    plt.ylabel('Loss')\n",
    "    plt.xlabel('Epochs')\n",
    "    plt.legend(['train', 'valid'])\n",
    "    plt.show()\n",
    "\n",
    "    plt.plot(train_acc_history)\n",
    "    plt.plot(valid_acc_history)\n",
    "    plt.title('model accuracy')\n",
    "    plt.ylabel('Accuracy')\n",
    "    plt.xlabel('Epochs')\n",
    "    plt.legend(['train', 'valid'])\n",
    "    plt.show()"
   ]
  }
 ],
 "metadata": {
  "kernelspec": {
   "display_name": "Python 3",
   "language": "python",
   "name": "python3"
  },
  "language_info": {
   "codemirror_mode": {
    "name": "ipython",
    "version": 3
   },
   "file_extension": ".py",
   "mimetype": "text/x-python",
   "name": "python",
   "nbconvert_exporter": "python",
   "pygments_lexer": "ipython3",
   "version": "3.8.5"
  }
 },
 "nbformat": 4,
 "nbformat_minor": 5
}
